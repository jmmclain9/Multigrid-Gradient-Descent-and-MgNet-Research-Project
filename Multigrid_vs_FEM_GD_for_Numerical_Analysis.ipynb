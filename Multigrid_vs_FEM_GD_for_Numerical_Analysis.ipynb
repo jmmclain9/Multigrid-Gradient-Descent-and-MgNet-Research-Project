{
  "cells": [
    {
      "cell_type": "markdown",
      "metadata": {
        "id": "-oZsuy-h3CAm"
      },
      "source": [
        "#Speeding Up Convergence for Finite Element Discretization\n",
        "----\n",
        "####This notebook contains a problem statement and accompanying code for solving a family of [PDEs](https://en.wikipedia.org/wiki/Poisson%27s_equation) through [finite element methods](https://en.wikipedia.org/wiki/Finite_element_method).\n",
        "\n",
        "####More specifically, I compare convergence rates of two related FEM formulations for computing numerical solutions to Poisson's equation - [Gradient Descent](https://en.wikipedia.org/wiki/Gradient_discretisation_method), and [Multigrid](https://en.wikipedia.org/wiki/Multigrid_method). This analysis starts by theoretically formulating an optimization problem to be solved through a discretized Gradient Descent algorithm, and then adapting this to Multigrid to accelerate convergence towards an exact solution. We'll be using the one-dimensional [P1](https://en.wikipedia.org/wiki/Finite_element_method#Illustrative_problems_P1_and_P2) problem formulation of FEM.\n",
        "\n"
      ]
    },
    {
      "cell_type": "code",
      "source": [
        "import numpy as np\n",
        "import matplotlib.pyplot as plt\n",
        "import torch\n",
        "import torch.nn as nn \n",
        "import torch.optim as optim\n",
        "import torchvision\n",
        "import torch.nn.functional as F\n",
        "import time"
      ],
      "metadata": {
        "id": "m8oZ9RGN_qLG"
      },
      "execution_count": 12,
      "outputs": []
    },
    {
      "cell_type": "markdown",
      "source": [
        "##Mathematical Motivation:"
      ],
      "metadata": {
        "id": "-rIr8QMM2L1c"
      }
    },
    {
      "cell_type": "markdown",
      "source": [
        "\n",
        "###1.) Defining the Optimization Problem\n",
        "----\n",
        "\n",
        "\n",
        "\n",
        "Consider an unknown function $u(x)$ and known function $f(x)$ such that\n",
        "\n",
        "$P1$:\n",
        "\\begin{aligned}\n",
        "-u''(x)&= f(x), \\,\\, 0<x<1, \\\\\n",
        " u(0)&=u(1)=0.\n",
        "\\end{aligned}\n",
        "\n",
        "Using the weak formulation of $P1$, it can be shown with some fancy math that\n",
        "if $u(x)$ solves the above equations, then finding $u(x)$ is an equivalent problem to optimizing\n",
        "\n",
        "\n",
        "\\begin{equation}\n",
        "u = \\text{arg}\\,\\min\\limits_{v}\\, J(v)\n",
        "\\end{equation}\n",
        "\n",
        "\n",
        "\n",
        "where\n",
        "\n",
        "\\begin{equation}\n",
        "J(v) = \\frac12 \\int_{0}^{1} |v(x)'|^2 \\; dx\n",
        "- \\int_{0}^{1} f(x)v(x) \\; dx\n",
        "\\end{equation}\n",
        "\n",
        "for some $v(x) \\in (0,1)$.\n"
      ],
      "metadata": {
        "id": "qYWjsi5g2J0N"
      }
    },
    {
      "cell_type": "markdown",
      "source": [
        "###2.) Discretizing with Gradient Descent\n",
        "----\n",
        "To set up gradient descent for FEM, we assume $f(x)=1$, so that integrating $u''(x)$ twice gives the exact solution $u(x)=\\frac{1}{2}x(1-x)$. \n",
        "\n",
        "\n",
        "Applying finite element discretization of $P1$ using a partition with grid points \n",
        "$x_i=\\frac{i}{n+1}, i=0,1,\\cdots,n+1$ then gives us the following convolution \n",
        "\n",
        "\\begin{equation}\n",
        "A\\ast \\mu =b\n",
        "\\end{equation}\n",
        "\n",
        "where $A=\\frac{1}{h}[-1,2,-1]$, and $\\mu$ and $b$ are discretized versions of the continuous functions $u$ and $f$, respectively.\n",
        "\n",
        "We can then use gradient descent to recast the above minimization problem in a discretized form\n",
        "\n",
        "$$\n",
        "\\mu^{m} = \\mu^{m-1} + \\frac{h}{4} (b- A* \\mu^{m-1}),~~ m=1,2,3,...,M.\n",
        "$$\n",
        "\n",
        "where $M$ is the number of iterations, and $\\frac{h}{4}$ is a regularization parameter. "
      ],
      "metadata": {
        "id": "MAFoPd6E2CDk"
      }
    },
    {
      "cell_type": "markdown",
      "source": [
        "\n",
        "Next, by defining a smoother $S^\\ell$ such that \n",
        "\n",
        "$$\\mu^1 = S_0^\\ell b = \\frac{h_\\ell}{4} b,$$\n",
        "$$\\mu^2 = S_1^\\ell b= S_0^\\ell + S_0^\\ell(b- A* \\mu^{m-1})$$\n",
        "\n",
        "We obtain the following update rule gradient descent of Poisson's equation:\n",
        "\n",
        "\n",
        "$$\\mu^j = \\mu^{j-1} + S^\\ell(b- A* \\mu^{m-1}),~~ j=1,2,3,...,J.$$\n",
        "\n",
        "where $J$ is the grid level as defind by the number of iterations of the smoothing operator.\n",
        "\n",
        "\n",
        "The above numerical solution $\\mu$ will converge to the exact solution $u$ with a high enough number of iterations.\n",
        "\n",
        "----"
      ],
      "metadata": {
        "id": "eE1y8UPG-z9-"
      }
    },
    {
      "cell_type": "markdown",
      "source": [
        "##Implementing Discretized Gradient Descent in Python"
      ],
      "metadata": {
        "id": "epQ1WERAeIcG"
      }
    },
    {
      "cell_type": "markdown",
      "source": [
        "\n",
        "Now that we've gotten some of the mathematical theory behind what we're doing by utilizing gradient descent for FEM, let's put it all together in code. \n",
        "\n",
        "Pseudo-code for discretized Gradient Descent:\n",
        "\n",
        "$$\n",
        "\\begin{align}\n",
        "&\\text{for    }  m =  1,2,...,M\\\\\n",
        "&~~~~\\text{for    }  i,j = 1: n\\\\\n",
        "&~~~~~~~~u_{i,j}^{m} = u_{i,j}^{m-1}-\\eta(f_{i,j}-(A\\ast u^{m-1})_{i,j})\\\\\n",
        "&~~~~\\text{endfor}\\\\\n",
        "&\\text{endfor}\n",
        "\\end{align} \n",
        "$$\n",
        "\n",
        "\n",
        "First we need to define the parameters we'll be using. Let's start with a grid level J = 4 and break that up into n = 15 inner grid points, giving us 16 grid intervals. We'll try M = 10 iterations to start."
      ],
      "metadata": {
        "id": "goLNwHsb_-Y9"
      }
    },
    {
      "cell_type": "code",
      "source": [
        "J = 4                                # grid level\n",
        "M = 100                              # number of iterations\n",
        "n = 2**J - 1                         # number of inner grid points\n",
        "h = 1/ 2**J                          # length of grid interval\n",
        "x = np.arange(1, n + 1) *h           # grid points\n",
        "u = (x*(1-x))/2                      # true solution at grid points\n",
        "b = np.ones(n)*h                     # right-hand-size term\n",
        "u1 = np.random.rand(n)*2-1           # initial value for u"
      ],
      "metadata": {
        "id": "zh7J6JVwBqY1"
      },
      "execution_count": 57,
      "outputs": []
    },
    {
      "cell_type": "markdown",
      "source": [
        "First define smoothing iterations for one iteration of gradient descent: $\\mu^j = \\mu^{j-1} + S^\\ell(b- A* \\mu^{m-1}),~~ j=1,2,3,...,J.$\n",
        "\n",
        "\n"
      ],
      "metadata": {
        "id": "bXLH-4PBB3nv"
      }
    },
    {
      "cell_type": "code",
      "source": [
        "def FEM_GD(u1,n,h,A,b):\n",
        "  Au_temp = np.array([u1[0]*A[1]+u1[1]*A[2]])\n",
        "  for j in np.arange(1,len(u1)-1):\n",
        "      Au_temp = np.append(Au_temp,np.dot(u1[j-1:j+2],A))\n",
        "  Au = np.append(Au_temp, u1[-2]*A[0] + u1[-1]*A[1])\n",
        "  u1 = u1 + h/4 * (b - Au)\n",
        "  return u1, Au"
      ],
      "metadata": {
        "id": "sunfIAi42B5i"
      },
      "execution_count": 58,
      "outputs": []
    },
    {
      "cell_type": "markdown",
      "source": [
        "Then call function to get initial u1, and wrap this in the number of iterations $M$.\n",
        "\n",
        "Record computational time and L2 normalized error of the residual, $e^m = \\sqrt{\\sum_{i=0}^{n+1}|(A* \\mu^{m}- b)_i |^2}$"
      ],
      "metadata": {
        "id": "T777rLWCB0N1"
      }
    },
    {
      "cell_type": "code",
      "source": [
        "gd_error_list = []                            \n",
        "t0 = time.time()                    \n",
        "A = np.array([-1, 2, -1]) /h       \n",
        "\n",
        "for m in range(M):\n",
        "  u1, null = FEM_GD(u1, m, h, A, b)\n",
        "  null, Au = FEM_GD(u1, m, h, A, b)\n",
        "  gd_error_list.append(np.linalg.norm(Au-b))  \n",
        "\n",
        "gd_time_cost = time.time() - t0\n",
        "print('Time cost', gd_time_cost)\n",
        "print('Error at iteration {}: {}'.format(M, gd_error_list[-1]))"
      ],
      "metadata": {
        "colab": {
          "base_uri": "https://localhost:8080/"
        },
        "id": "F2hTjclv2AtS",
        "outputId": "cff4264a-24e3-4f7a-b716-1afbf94bc33a"
      },
      "execution_count": 59,
      "outputs": [
        {
          "output_type": "stream",
          "name": "stdout",
          "text": [
            "Time cost 0.026829242706298828\n",
            "Error at iteration 100: 0.08692338555826352\n"
          ]
        }
      ]
    },
    {
      "cell_type": "code",
      "source": [
        "# Overlay exact solution and numerical solution\n",
        "plt.figure()\n",
        "plt.title('Exact solution and numerical solution')\n",
        "plot = plt.plot(x,u,label='Exact solution')\n",
        "plot = plt.plot(x,u1,label='Numerical solution')\n",
        "plt.legend()\n",
        "plt.show()"
      ],
      "metadata": {
        "colab": {
          "base_uri": "https://localhost:8080/",
          "height": 281
        },
        "id": "v1XPajzj_XEw",
        "outputId": "bd4fd0b6-f4f0-4cd9-80e6-e6177f001b7a"
      },
      "execution_count": 60,
      "outputs": [
        {
          "output_type": "display_data",
          "data": {
            "image/png": "[encoded data removed]",
            "text/plain": [
              "<Figure size 432x288 with 1 Axes>"
            ]
          },
          "metadata": {
            "needs_background": "light"
          }
        }
      ]
    },
    {
      "cell_type": "code",
      "source": [
        "# Display error vs iterations \n",
        "plt.figure()\n",
        "plt.title('Error vs number of iterations')\n",
        "plot = plt.plot(gd_error_list)\n",
        "plt.xlabel('Number of iterations')\n",
        "plt.yscale('log')\n",
        "plt.ylabel('Error')\n",
        "plt.show()"
      ],
      "metadata": {
        "colab": {
          "base_uri": "https://localhost:8080/",
          "height": 295
        },
        "id": "0ZDWFASO_Z_b",
        "outputId": "509d2322-f855-478d-dca4-2518d5ad2b3a"
      },
      "execution_count": 61,
      "outputs": [
        {
          "output_type": "display_data",
          "data": {
            "image/png": "[encoded data removed]",
            "text/plain": [
              "<Figure size 432x288 with 1 Axes>"
            ]
          },
          "metadata": {
            "needs_background": "light"
          }
        }
      ]
    },
    {
      "cell_type": "markdown",
      "source": [
        "It looks like our error is steadily decreasing, but after 100 iterations of gradient descent we still have a sizable difference between the numerical solution we computed and the exact solution."
      ],
      "metadata": {
        "id": "XpS-TfZZO2gg"
      }
    },
    {
      "cell_type": "markdown",
      "source": [
        "\n",
        "###3.) Moving to Multigrid\n",
        "----"
      ],
      "metadata": {
        "id": "MsqAYrKrpGCv"
      }
    },
    {
      "cell_type": "markdown",
      "source": [
        "We can implement Multigrid for FEM with the following pseudo-code"
      ],
      "metadata": {
        "id": "KAY2TZC2bEo5"
      }
    },
    {
      "cell_type": "markdown",
      "source": [
        "Pseudo-code for Multigrid: $u^{m} = MG1(u^{m-1},f, J, \\nu)\\ ,~~~m=1,2,...,M$\n",
        "\n",
        "\n",
        "$$\n",
        "\\begin{align}\n",
        "&\\text{for }~ m =  1,2,...,M\\\\\n",
        "&~~{\\text{initialize:}} ~b^1 = b, \\mu^1 = \\mu^0\\\\\n",
        "&~~{\\text{Restriction from fine to course grid size:}}\\\\\n",
        "&~~{\\text{for}} ~ l = 1,2,...,J\\\\\n",
        "&~~~~{\\text{Smoothing:}}\\\\\n",
        "&~~~~{\\text{for}} ~ i = 1,2,...,v_l\\\\\n",
        "&~~~~~~u^{l} = u^{l} + S^{l} * (b^{l} - A_{l} * \\mu^l)\\\\\n",
        "&~~~~{\\text{end for}}\\\\\n",
        "&~~~~\\mu^{l+1} = 0\\\\\n",
        "&~~~~b^{l+1} = R *_2 (b^{l} - A_{l} * \\mu^l) \\\\\n",
        "&~~~~A_{l+1} = R *_2 A_l * (R *_2^{\\mathsf{T}})\\\\\n",
        "&~~{\\text{end for}}\\\\\n",
        "&~~{\\text{Restriction from course to fine grid size:}}\\\\\n",
        "&~~{\\text{for}} ~ l = J-1, J, J+1,...,1\\\\\n",
        "&~~~~\\mu^l = \\mu^l +   R *_2^{\\mathsf{T}} \\mu^{l+1}\\\\\n",
        "&~~{\\text{end for}}\\\\\n",
        "&~~{\\mu = \\mu^l}\\\\\n",
        "&{\\text{end for}}\\\\\n",
        "\\end{align} \n",
        "$$"
      ],
      "metadata": {
        "id": "nTVAwwCZhnMM"
      }
    },
    {
      "cell_type": "markdown",
      "source": [
        "NOTE: You can find the cleaned up object oriented implementations of the same mathematical approach generalized to higher dimensions in 'Multigrid.py'. To help keep this notebook relatively small and tidy, the following code block shows a functional, brute force implementations of MG for FEM. "
      ],
      "metadata": {
        "id": "vnfYahL9o8ZS"
      }
    },
    {
      "cell_type": "code",
      "source": [
        "J = 4                                # grid level\n",
        "M = 100                              # number of iterations\n",
        "n = 2**J - 1                         # number of inner grid points\n",
        "h = 1/ 2**J                          # length of grid interval\n",
        "x = np.arange(1, n + 1) *h           # grid points\n",
        "u = (x*(1-x))/2                      # true solution at grid points\n",
        "b = np.ones(n)*h                     # right-hand-size term\n",
        "u1 = np.random.rand(n)*2-1           # initial value for u"
      ],
      "metadata": {
        "id": "39PXeGCGftPz"
      },
      "execution_count": 62,
      "outputs": []
    },
    {
      "cell_type": "code",
      "source": [
        "def FEM_MG1(b, u0, J, v):\n",
        "  B=[0,b]\n",
        "  U=[0,u0]\n",
        "  R=np.array([1/2,1,1/2])\n",
        "\n",
        "  for l in np.arange(1,J+1):\n",
        "    h_l=1/2**(J+1-l)\n",
        "    A=np.array([-1,2,-1]/h_l)\n",
        "\n",
        "    if l<J:\n",
        "      for i in np.arange(0,v[l-1]):\n",
        "        temp=np.array([U[l][0]*A[1]+U[l][1]*A[2]])\n",
        "\n",
        "        for j in np.arange(1,len(U[l])-1):\n",
        "            temp=np.append(temp,np.dot(U[l][j-1:j+2],A))\n",
        "        temp=np.append(temp,U[l][-2]*A[0]+U[l][-1]*A[1])\n",
        "        U[l]+=1/4*h_l*(B[l]-temp)\n",
        "\n",
        "      U.append(np.zeros((len(U[l])-1)//2))\n",
        "      newb=[]\n",
        "      temp=np.array([U[l][0]*A[1]+U[l][1]*A[2]])\n",
        "      \n",
        "      for j in np.arange(1,len(U[l])-1):\n",
        "         temp=np.append(temp,np.dot(U[l][j-1:j+2],A))\n",
        "      temp=np.append(temp,U[l][-2]*A[0]+U[l][-1]*A[1])\n",
        "    \n",
        "      for k in range((len(U[l])-1)//2):\n",
        "        newb.append(np.dot((B[l]-temp)[2*k:2*k+3],R))\n",
        "      B.append(newb)\n",
        "    else:\n",
        "      for i in np.arange(0,v[l-1]):\n",
        "        temp=np.array(U[l][0]*A[1])\n",
        "        U[l]+=1/4*h_l*(B[l]-temp)\n",
        "  \n",
        "  for l in np.arange(J-1,0,-1):\n",
        "    temp=[1/2*U[l+1][0]]\n",
        "  \n",
        "    for i in np.arange(1,len(U[l+1])*2):\n",
        "      if i%2==1:\n",
        "        temp.append(U[l+1][(i-1)//2])\n",
        "      else:\n",
        "        temp.append(1/2*(U[l+1][(i-2)//2]+U[l+1][i//2]))\n",
        "    temp.append(1/2*U[l+1][-1])\n",
        "    U[l]+=temp\n",
        "    \n",
        "  return U[1], temp\n",
        "\n",
        "\n",
        "mg_error_list = []                            \n",
        "t0 = time.time()                    \n",
        "A = np.array([-1, 2, -1]) /h       \n",
        "\n",
        "for m in range(M):\n",
        "  u1, null = FEM_MG1(b,u1,J,[2,2,2,2])\n",
        "  null, Au = FEM_GD(u1, m, h, A, b)\n",
        "  mg_error_list.append(np.linalg.norm(Au-b))  \n",
        "mg_time_cost = time.time() - t0\n",
        "print('Time cost', mg_time_cost)\n",
        "print('Error at iteration {}: {}'.format(M, mg_error_list[-1]))"
      ],
      "metadata": {
        "id": "KEsg86hSNGLY",
        "colab": {
          "base_uri": "https://localhost:8080/"
        },
        "outputId": "f96605a5-1408-4d4a-f067-e11596254416"
      },
      "execution_count": 63,
      "outputs": [
        {
          "output_type": "stream",
          "name": "stdout",
          "text": [
            "Time cost 0.09953904151916504\n",
            "Error at iteration 100: 6.181460191301304e-16\n"
          ]
        }
      ]
    },
    {
      "cell_type": "code",
      "source": [
        "# Overlay exact solution and numerical solution\n",
        "plt.figure()\n",
        "plt.title('Exact solution and numerical solution')\n",
        "plot = plt.plot(x,u,label='Exact solution')\n",
        "plot = plt.plot(x,u1,label='Numerical solution')\n",
        "plt.legend()\n",
        "plt.show()"
      ],
      "metadata": {
        "colab": {
          "base_uri": "https://localhost:8080/",
          "height": 281
        },
        "id": "75h-Fad1NpaM",
        "outputId": "f227150a-312e-4fab-8ad0-bb7a8b239a32"
      },
      "execution_count": 64,
      "outputs": [
        {
          "output_type": "display_data",
          "data": {
            "image/png": "[encoded data removed]",
            "text/plain": [
              "<Figure size 432x288 with 1 Axes>"
            ]
          },
          "metadata": {
            "needs_background": "light"
          }
        }
      ]
    },
    {
      "cell_type": "code",
      "source": [
        "# Display error vs iterations \n",
        "plt.figure()\n",
        "plt.title('Error vs number of iterations')\n",
        "plot = plt.plot(mg_error_list)\n",
        "plt.xlabel('Number of iterations')\n",
        "plt.yscale('log')\n",
        "plt.ylabel('Error')\n",
        "plt.show()"
      ],
      "metadata": {
        "colab": {
          "base_uri": "https://localhost:8080/",
          "height": 295
        },
        "id": "GIfSNnpyOTZj",
        "outputId": "0955f87b-2d0b-4ac1-c060-c15d6097bf3f"
      },
      "execution_count": 65,
      "outputs": [
        {
          "output_type": "display_data",
          "data": {
            "image/png": "[encoded data removed]",
            "text/plain": [
              "<Figure size 432x288 with 1 Axes>"
            ]
          },
          "metadata": {
            "needs_background": "light"
          }
        }
      ]
    },
    {
      "cell_type": "code",
      "source": [
        "print('Multigrid error after 10 iterations: {},  Gradient Descent error after 10 iterations: {}'.format(mg_error_list[-1], gd_error_list[-1]))"
      ],
      "metadata": {
        "colab": {
          "base_uri": "https://localhost:8080/"
        },
        "id": "_wF1UIHnZvvc",
        "outputId": "1b447634-9d6a-4528-9136-af7611c65167"
      },
      "execution_count": 36,
      "outputs": [
        {
          "output_type": "stream",
          "name": "stdout",
          "text": [
            "Multigrid error after 10 iterations: 8.899114524108741e-16,  Gradient Descent error after 10 iterations: 0.872609308922711\n"
          ]
        }
      ]
    },
    {
      "cell_type": "code",
      "source": [
        "print('Multigrid time cost for 10 iterations: {},  Gradient Descent time cost for 10 iterations: {}'.format(mg_time_cost, gd_time_cost))"
      ],
      "metadata": {
        "colab": {
          "base_uri": "https://localhost:8080/"
        },
        "id": "3L1mbzzwaGAm",
        "outputId": "58e3bf84-74bd-48e4-cff1-a865719a9712"
      },
      "execution_count": 38,
      "outputs": [
        {
          "output_type": "stream",
          "name": "stdout",
          "text": [
            "Multigrid time cost for 10 iterations: 0.009506464004516602,  Gradient Descent time cost for 10 iterations: 0.024457693099975586\n"
          ]
        }
      ]
    },
    {
      "cell_type": "code",
      "source": [
        "plt.figure()\n",
        "plt.title('Error vs number of iterations using MG(red), GD(blue)')\n",
        "plot = plt.plot(mg_error_list,'r-', gd_error_list, 'b-')\n",
        "plt.xlabel('Number of iterations')\n",
        "plt.yscale('log')\n",
        "plt.ylabel('Error')\n",
        "plt.show()"
      ],
      "metadata": {
        "colab": {
          "base_uri": "https://localhost:8080/",
          "height": 295
        },
        "id": "LYzQ6P-Wf5N-",
        "outputId": "a88d51b0-6c1a-475e-a54f-2d2b1a2052e3"
      },
      "execution_count": 66,
      "outputs": [
        {
          "output_type": "display_data",
          "data": {
            "image/png": "[encoded data removed]",
            "text/plain": [
              "<Figure size 432x288 with 1 Axes>"
            ]
          },
          "metadata": {
            "needs_background": "light"
          }
        }
      ]
    },
    {
      "cell_type": "markdown",
      "source": [
        "Looks like Multigrid converges in a far fewer number of iterations than gradient descent, but has a slightly higher time cost.\n",
        "Let's evaluate the minimum number of iterations it takes to acheive error less than $10^{-4}$ to compare convergence rates."
      ],
      "metadata": {
        "id": "1dpZWS5gX_CR"
      }
    },
    {
      "cell_type": "code",
      "source": [
        "J = 4                                # grid level\n",
        "M = 10                               # number of iterations\n",
        "n = 2**J - 1                         # number of inner grid points\n",
        "h = 1/ 2**J                          # length of grid interval\n",
        "x = np.arange(1, n + 1) *h           # grid points\n",
        "u = (x*(1-x))/2                      # true solution at grid points\n",
        "b = np.ones(n)*h                     # right-hand-size term\n",
        "u1 = np.random.rand(n)*2-1           # initial value for u\n",
        "\n",
        "gd_error = []                            \n",
        "t0 = time.time()                    \n",
        "A = np.array([-1, 2, -1]) /h       \n",
        "m=0\n",
        "\n",
        "u1, null = FEM_GD(u1, m, h, A, b)\n",
        "null, Au = FEM_GD(u1, m, h, A, b)\n",
        "gd_error.append(np.linalg.norm(Au-b))  \n",
        "\n",
        "while gd_error[-1] > 1e-4:\n",
        "  u1, null = FEM_GD(u1, m, h, A, b)\n",
        "  null, Au = FEM_GD(u1, m, h, A, b)\n",
        "  gd_error.append(np.linalg.norm(Au-b))  \n",
        "  m+=1\n",
        "gd_time_cost = time.time() - t0\n",
        "\n",
        "print('Gradient Descent:')\n",
        "print('The minumum M to achieve error less than 1e-5 m = ', m)\n",
        "print('Time cost for m iterations is ', time.time() - t0)"
      ],
      "metadata": {
        "colab": {
          "base_uri": "https://localhost:8080/"
        },
        "id": "5mwcfBVpdUsq",
        "outputId": "b83decf5-8ee6-4968-ea2b-32cf321bab1d"
      },
      "execution_count": 51,
      "outputs": [
        {
          "output_type": "stream",
          "name": "stdout",
          "text": [
            "Gradient Descent:\n",
            "The minumum M to achieve error less than 1e-4 m =  842\n",
            "Time cost for m iterations is  0.21818208694458008\n"
          ]
        }
      ]
    },
    {
      "cell_type": "code",
      "source": [
        "J = 4                                # grid level\n",
        "M = 10                               # number of iterations\n",
        "n = 2**J - 1                         # number of inner grid points\n",
        "h = 1/ 2**J                          # length of grid interval\n",
        "x = np.arange(1, n + 1) *h           # grid points\n",
        "u = (x*(1-x))/2                      # true solution at grid points\n",
        "b = np.ones(n)*h                     # right-hand-size term\n",
        "u1 = np.random.rand(n)*2-1           # initial value for u\n",
        "\n",
        "mg_error = []                            \n",
        "t0 = time.time()                    \n",
        "A = np.array([-1, 2, -1]) /h       \n",
        "m=0\n",
        "\n",
        "u1, null = FEM_MG1(b,u1,J,[2,2,2,2])\n",
        "null, Au = FEM_GD(u1, m, h, A, b)\n",
        "mg_error.append(np.linalg.norm(Au-b))  \n",
        "\n",
        "while mg_error[-1] > 1e-5:\n",
        "  u1, null = FEM_MG1(b,u1,J,[2,2,2,2])\n",
        "  null, Au = FEM_GD(u1, m, h, A, b)\n",
        "  mg_error.append(np.linalg.norm(Au-b))   \n",
        "  m+=1\n",
        "gd_time_cost = time.time() - t0\n",
        "\n",
        "print('Multigrid:')\n",
        "print('The minumum M to achieve error less than 1e-4 m = ', m)\n",
        "print('Time cost for m iterations is ', time.time() - t0)"
      ],
      "metadata": {
        "colab": {
          "base_uri": "https://localhost:8080/"
        },
        "id": "e0HWyLbDerVy",
        "outputId": "cc4530d4-9584-4b3a-b083-b4211fa644d9"
      },
      "execution_count": 56,
      "outputs": [
        {
          "output_type": "stream",
          "name": "stdout",
          "text": [
            "Multigrid:\n",
            "The minumum M to achieve error less than 1e-4 m =  11\n",
            "Time cost for m iterations is  0.013488292694091797\n"
          ]
        }
      ]
    },
    {
      "cell_type": "markdown",
      "source": [
        "| Method           |  # iterations | computational time |\n",
        "|:-----------------|:--------------------|:-------------------|\n",
        "| Multigrid |         11     |     0.013488292694091797               |\n",
        "| Gradient Descent    |   842|0.21818208694458008    \n",
        "\n",
        "We can see that despite taking longer to compute one iteration, multigrid requires much less overall compute time to converge than gradient descent!"
      ],
      "metadata": {
        "id": "Crq2mtpRgWqm"
      }
    }
  ],
  "metadata": {
    "colab": {
      "collapsed_sections": [],
      "name": "Multigrid vs. FEM GD for Numerical Analysiss.ipynb",
      "provenance": []
    },
    "kernelspec": {
      "display_name": "Python 3 (ipykernel)",
      "language": "python",
      "name": "python3"
    },
    "language_info": {
      "codemirror_mode": {
        "name": "ipython",
        "version": 3
      },
      "file_extension": ".py",
      "mimetype": "text/x-python",
      "name": "python",
      "nbconvert_exporter": "python",
      "pygments_lexer": "ipython3",
      "version": "3.9.7"
    }
  },
  "nbformat": 4,
  "nbformat_minor": 0
}